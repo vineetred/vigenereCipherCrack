{
 "cells": [
  {
   "cell_type": "code",
   "execution_count": 1,
   "metadata": {},
   "outputs": [],
   "source": [
    "from collections import Counter\n",
    "\n",
    "letters = ['a','b','c','d','e','f','g','h','i','j','k','l','m','n','o', 'p', 'q', 'r', 's', 't', 'u', 'v', 'w', 'x', 'y', 'z']\n",
    "#From the Oxford Math Centre\n",
    "letterFreq = {'E': 12.70, 'T': 9.06, 'A': 8.17, 'O': 7.51, 'I': 6.97, 'N': 6.75, 'S': 6.33, 'H': 6.09, 'R': 5.99, 'D': 4.25, 'L': 4.03, 'C': 2.78, 'U': 2.76, 'M': 2.41, 'W': 2.36, 'F': 2.23, 'G': 2.02, 'Y': 1.97, 'P': 1.93, 'B': 1.29, 'V': 0.98, 'K': 0.77, 'J': 0.15, 'X': 0.15, 'Q': 0.10, 'Z': 0.07}\n",
    "cipher_text = \"hdsfgvmkoowafweetcmfthskucaqbilgjofmaqlgspvatvxqbiryscpcfrmvswrvnqlszdmgaoqsakmlupsqforvtwvdfcjzvgsoaoqsacjkbrsevbelvbksarlscdcaarmnvrysywxqgvellcyluwwveoafgclazowafojdlhssfiksepsoywxafowlbfcsocylngqsyzxgjbmlvgrggokgfgmhlmejabsjvgmlnrvqzcrggcrghgeupcyfgtydycjkhqluhgxgzovqswpdvbwsffsenbxapasgazmyuhgsfhmftayjxmwznrsofrsoaopgauaaarmftqsmahvqecev\"\n",
    "# cipher_text = \"qivjukosqegnyiytxypshzewjsnsdpeybsuiranshzewjsnsdvusdvozqhasghexhvtdrynjyirlrrnfpekjbsuhucnjyirlrrnfveylrsdgbinjyirlrrnfwilqbsuqlisfqhhzuxytxaewhroxwvasjirxwsltyiytxontzxhjuyljvenivsdtlectpqiypinylwwmdxirosoplrgkrvytxaoswkeywlixivordrytwlewjyynmysyzensdxeqocozkswnpjejomnlzensdqaphcozxrdjuwtfqhnjyirlrrnfjmvjbsuzsreahvgtqraqhxytxhobq\""
   ]
  },
  {
   "cell_type": "code",
   "execution_count": 2,
   "metadata": {},
   "outputs": [],
   "source": [
    "#This function decrypts a given cipher text when supplied with the key\n",
    "def decrypt(ciphertext, key):\n",
    "    key_length = len(key)\n",
    "    key_as_int = [ord(i) for i in key]\n",
    "    ciphertext_int = [ord(i) for i in ciphertext]\n",
    "    plaintext = ''\n",
    "    for i in range(len(ciphertext_int)):\n",
    "        value = (ciphertext_int[i] - key_as_int[i % key_length]) % 26\n",
    "        plaintext += chr(value + 65)\n",
    "    return plaintext\n",
    "\n",
    "#This function breaks down the text such that the letters after\n",
    "#every succesive keyLength gap are put into one array\n",
    "def breakText(size, keySize):\n",
    "    text_list = list(cipher_text)\n",
    "    text_list = text_list[size::keySize]\n",
    "    return text_list\n",
    "\n",
    "#This is our main cracking function\n",
    "def vigenereCrack(keySize):\n",
    "    keys = []\n",
    "    for tries in range(keySize):\n",
    "        keySize = tries+1\n",
    "        #The possible key is initialised as an empty string\n",
    "        possibleKey = ''\n",
    "        #We do not know the key length size. So we try a range from 0 to keySize\n",
    "        for hell in range(keySize):\n",
    "            scoreArr = []\n",
    "            #Iterate through all letters to find the most appropriate subkey\n",
    "            for letter in letters:\n",
    "                score = 0\n",
    "                #This breaks down the text by calling breakText\n",
    "                subText = breakText(hell,keySize)\n",
    "                #We decrypt it using some letter\n",
    "                subDecrypt = decrypt(subText, letter)\n",
    "                #Then we analyse it's frequency\n",
    "                subFrequency = Counter(subDecrypt)\n",
    "                #We calculate the score of this decyrpted text\n",
    "                for index in letterFreq:\n",
    "                    subScore = subFrequency[index]*letterFreq[index]\n",
    "                    score+=subScore\n",
    "                #We append the score to an array\n",
    "                scoreArr.append(score)\n",
    "            #After all possible subkeys are tried, we find the letter with the maximum score\n",
    "            maximum = letters[scoreArr.index(max(scoreArr))]\n",
    "            #We append that to our possible key\n",
    "            possibleKey+=str(maximum)\n",
    "        #We save all these keys in one array and then return it to be decrypted on the original text\n",
    "        keys.append(possibleKey)\n",
    "    return keys"
   ]
  },
  {
   "cell_type": "code",
   "execution_count": 3,
   "metadata": {},
   "outputs": [
    {
     "name": "stdout",
     "output_type": "stream",
     "text": [
      "Enter max key length: 6\n",
      "\n",
      "Key:  o\n",
      "TPERSHYWAAIMRIQQFOYRFTEWGOMCNUXSVARYMCXSEBHMFHJCNUDKEOBORDYHEIDHZCXELPYSMACEMWYXGBECRADHFIHPROVLHSEAMACEMOVWNDEQHNQXHNWEMDXEOPOMMDYZHDKEKIJCSHQXXOKXGIIHQAMRSOXMLAIMRAVPXTEERUWEQBEAKIJMRAIXNROEAOKXZSCEKLJSVNYXHSDSSAWSRSYTXYQVMNEVHSYXZDHCLODSSODSTSQGBOKRSFKPKOVWTCXGTSJSLAHCEIBPHNIERREQZNJMBMESMLYKGTSERTYRFMKVJYILZDEARDEAMABSMGMMMDYRFCEYMTHCQOQH\n",
      "\n",
      "Key:  so\n",
      "PPAROHUWWAEMNIMQBOURBTAWCOICJUTSRANYICTSABDMBHFCJUZKAOXONDUHAIZHVCTEHPUSIAYEIWUXCBACNAZHBIDPNORLDSAAIAYEIORWJDAQDNMXDNSEIDTEKPKMIDUZDDGEGIFCOHMXTOGXCIEHMAIROOTMHAEMNARPTTAENUSEMBAAGIFMNAEXJRKEWOGXVSYEGLFSRNUXDSZSOASSNSUTTYMVINAVDSUXVDDCHOZSOOZSPSMGXOGROFGPGORWPCTGPSFSHADCAIXPDNEENRAQVNFMXMASILUKCTOENTURBMGVFYELVDAANDAAIAXSIGIMIDURBCAYITDCMOMH\n",
      "\n",
      "Key:  oos\n",
      "TPARSDYWWAIIRIMQFKYRBTESGOICNQXSRARUMCTSEXHMBHJYNUZKEKBONDYDEIZHZYXEHPYOMAYEMSYXCBEYRAZHFEHPNOVHHSAAMWCEIOVSNDAQHJQXDNWAMDTEOLOMIDYVHDGEKEJCOHQTXOGXGEIHMAMNSOTMLWIMNAVLXTAERQWEMBEWKIFMRWIXJROAAOGXZOCEGLJOVNUXHODSOAWORSUTXUQVINERHSUXZZHCHODOSOZSTOQGXOKNSFGPKKVWPCXCTSFSLWHCAIBLHNEERNEQVNJIBMASMHYKCTSARTURFIKVFYIHZDAARZEAIABOMGIMMZYRBCEUMTDCQKQH\n",
      "\n",
      "Key:  noes\n",
      "UPONTHISBASISIAMGOINGTOSHOWYOUHOWABUNCHOFBRIGHTYOUNGFOLKSDIDFINDACHAMPIONAMANWITHBOYSANDGIRLSOFHISOWNAMANOFSODOMINATINGANDHAPPYINDIVIDUALITYTHATYOUTHISDRAWNTOHIMASISAFLYTOASUGARBOWLITISASTORYABOUTASMALLTOWNITISNOTAGOSSIPYYARNNORISITADRYMONOTONOUSACCOUNTFULLOFSUCHCUSTOMARYFILLINSASROMANTICMOONLIGHTCASTINGMURKYSHADOWSDOWNALONGWINDINGCOUNTRYROAD\n",
      "\n",
      "Key:  ossoo\n",
      "TLARSHUSAAIINIQQBKYRFPAWGOIYNUXORARYIYXSEXDMFHFYNUDGAOBONZYHEEZHZCTALPYOIACEISYXGXACRAZDFIHLNOVLDOEAMWYEMORSNDEMDNQXDJWEMZTEOPKIMDYVDDKEGEJCSDMXXOGTGIIDMAMROKXMLWEMRARLXTEANUWEMXEAKEFMRAETNROAWOKXVOCEKHFSVNUTHSDOOAWSNOYTXUMVMNARHSYTVDHCHKDSSKZSTSMCBOKNOFKPGKVWTYTGTSFOLAHYAIBPDJIERNAQZNFIBMEOILYKCPSERPURFMGRJYIHVDEANZEAMWXSMGIIMDYNBCEYIPHCQKMH\n",
      "\n",
      "Key:  soaofo\n",
      "PPSRBHUWOARMNIEQOOURTTNWCOACWUTSJAAYICLSNBDMTHSCJURKNOXOFDHHAIRHICTEZPHSIAQEVWUXUBNCNARHOIDPFOELDSSAVAYEAOEWJDSQQNMXVNFEIDLEXPKMADHZDDYETIFCGHZXTOYXPIEHEAVROOLMUAEMFAEPTTSEAUSEEBNAGIXMAAEXBRXEWOYXISYEYLSSRNMXQSZSGAFSNSMTGYMVANNVDSMXIDDCZOMSOORSCSMGPOTROFYPTORWHCGGPSXSUADCSIKPDNWEARAQNNSMXMSSVLUKUTBENTMROMGVXYRLVDSAADAAAAKSIGAMVDURTCNYITVCZOMH\n"
     ]
    }
   ],
   "source": [
    "keyLength = input(\"Enter max key length: \")\n",
    "keys = vigenereCrack(int(keyLength))\n",
    "for key in keys:\n",
    "    print(\"\\nKey: \", key)\n",
    "    print(decrypt(cipher_text,key))"
   ]
  }
 ],
 "metadata": {
  "kernelspec": {
   "display_name": "Python 3",
   "language": "python",
   "name": "python3"
  },
  "language_info": {
   "codemirror_mode": {
    "name": "ipython",
    "version": 3
   },
   "file_extension": ".py",
   "mimetype": "text/x-python",
   "name": "python",
   "nbconvert_exporter": "python",
   "pygments_lexer": "ipython3",
   "version": "3.6.4"
  }
 },
 "nbformat": 4,
 "nbformat_minor": 2
}
